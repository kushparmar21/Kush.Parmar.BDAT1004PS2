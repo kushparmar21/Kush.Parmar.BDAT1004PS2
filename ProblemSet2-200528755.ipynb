{
 "cells": [
  {
   "cell_type": "markdown",
   "id": "e9e1a512",
   "metadata": {},
   "source": [
    "Question 1\n",
    "Consider the following Python module:\n",
    "a = 0\n",
    "def b():\n",
    "global a\n",
    "a = c(a)\n",
    "def c(a):\n",
    "return a + 2\n",
    "After importing the module into the interpreter, you execute:b() b() b() a ?\n",
    "What value is displayed when the last expression (a) is evaluated? Explain your answer by indicating what happens in every executed statement."
   ]
  },
  {
   "cell_type": "code",
   "execution_count": 27,
   "id": "d1b4251a",
   "metadata": {},
   "outputs": [
    {
     "name": "stdout",
     "output_type": "stream",
     "text": [
      "6\n"
     ]
    }
   ],
   "source": [
    "a = 0  \n",
    "def b():\n",
    "    global a  \n",
    "    a = c(a) \n",
    "def c(a):\n",
    "    return a + 2  \n",
    "b()  \n",
    "b()  \n",
    "b()  \n",
    "print(a) "
   ]
  },
  {
   "cell_type": "markdown",
   "id": "0da39840",
   "metadata": {},
   "source": [
    "Question 2\n",
    "Function fileLength(), given to you, takes the name of a file as input and returns the length of the file:\n",
    "fileLength('midterm.py')\n",
    "284\n",
    "fileLength('idterm.py')\n",
    "Traceback (most recent call last):\n",
    "File \"<pyshell#34>\", line 1, in <module>\n",
    "fileLength('idterm.py')\n",
    "File \"/Users/me/midterm.py\", line 3, in fileLength\n",
    "infile = open(filename)\n",
    "FileNotFoundError: [Errno 2] No such file or directory: 'idterm.py'\n",
    "As shown above, if the file cannot be found by the interpreter or if it cannot be read as a text file, an exception will be raised. Modify function fileLength() so that a friendly message is printed instead:\n",
    ">>> fileLength('midterm.py')\n",
    "358\n",
    ">>> fileLength('idterm.py')\n",
    "File idterm.py not found."
   ]
  },
  {
   "cell_type": "code",
   "execution_count": 16,
   "id": "ec1aa562",
   "metadata": {},
   "outputs": [
    {
     "name": "stdout",
     "output_type": "stream",
     "text": [
      "File midterm.py not found.\n",
      "None\n",
      "File idterm.py not found.\n",
      "None\n"
     ]
    }
   ],
   "source": [
    "def fileLength(filename):\n",
    "    try:\n",
    "        with open(filename, 'r') as file:\n",
    "            content = file.read()\n",
    "            return len(content)\n",
    "    except FileNotFoundError:\n",
    "        print(f\"File {filename} not found.\")\n",
    "\n",
    "print(fileLength('midterm.py'))  \n",
    "print(fileLength('idterm.py'))   "
   ]
  },
  {
   "cell_type": "markdown",
   "id": "3be29699",
   "metadata": {},
   "source": [
    "Question 3\n",
    "Write a class named Marsupial that can be used as shown below:\n",
    "m = Marsupial()\n",
    "m.put_in_pouch('doll')\n",
    "m.put_in_pouch('firetruck')\n",
    "m.put_in_pouch('kitten')\n",
    "m.pouch_contents() ['doll', 'firetruck', 'kitten']\n",
    "Now write a class named Kangaroo as a subclass of Marsupial that inherits all the attributes of Marsupial and also:\n",
    "a. extends the Marsupial __init__ constructor to take, as input, the coordinates x and y of the Kangaroo object,\n",
    "b. supports method jump that takes number values dx and dy as input and moves the kangaroo by dx units along the x-axis and by dy units along the y\u0002axis, and\n",
    "c. overloads the __str__ operator so it behaves as shown below.\n",
    "k = Kangaroo(0,0)\n",
    "print(k)\n",
    "I am a Kangaroo located at coordinates (0,0)\n",
    "k.put_in_pouch('doll')\n",
    "k.put_in_pouch('firetruck')\n",
    "k.put_in_pouch('kitten')\n",
    "k.pouch_contents()\n",
    "['doll', 'firetruck', 'kitten']\n",
    "k.jump(1,0)\n",
    "k.jump(1,0)\n",
    "k.jump(1,0)\n",
    "print(k)\n",
    "I am a Kangaroo located at coordinates (3,0)"
   ]
  },
  {
   "cell_type": "code",
   "execution_count": 17,
   "id": "9eeaf55c",
   "metadata": {},
   "outputs": [
    {
     "name": "stdout",
     "output_type": "stream",
     "text": [
      "['doll', 'firetruck', 'kitten']\n",
      "I am a Kangaroo located at coordinates (0,0)\n",
      "['doll', 'firetruck', 'kitten']\n",
      "I am a Kangaroo located at coordinates (3,0)\n"
     ]
    }
   ],
   "source": [
    "class Marsupial:\n",
    "    def __init__(self):\n",
    "        self.pouch = []\n",
    "    def put_in_pouch(self, item):\n",
    "        self.pouch.append(item)\n",
    "    def pouch_contents(self):\n",
    "        return self.pouch\n",
    "    \n",
    "class Kangaroo(Marsupial):\n",
    "    def __init__(self, x, y):\n",
    "        super().__init__()\n",
    "        self.x = x\n",
    "        self.y = y\n",
    "    def jump(self, dx, dy):\n",
    "        self.x += dx\n",
    "        self.y += dy\n",
    "    def __str__(self):\n",
    "        return f\"I am a Kangaroo located at coordinates ({self.x},{self.y})\"\n",
    "m = Marsupial()\n",
    "m.put_in_pouch('doll')\n",
    "m.put_in_pouch('firetruck')\n",
    "m.put_in_pouch('kitten')\n",
    "print(m.pouch_contents())\n",
    "\n",
    "k = Kangaroo(0, 0)\n",
    "print(k)\n",
    "k.put_in_pouch('doll')\n",
    "k.put_in_pouch('firetruck')\n",
    "k.put_in_pouch('kitten')\n",
    "print(k.pouch_contents())\n",
    "k.jump(1, 0)\n",
    "k.jump(1, 0)\n",
    "k.jump(1, 0)\n",
    "print(k)"
   ]
  },
  {
   "cell_type": "markdown",
   "id": "0ee7fdbc",
   "metadata": {},
   "source": [
    "Question 4\n",
    "Write function collatz() that takes a positive integer x as input and prints the Collatz sequence starting at x. A Collatz sequence is obtained by repeatedly applying this rule to the previous number x in the sequence:\n",
    "x = {\n",
    "𝑥/2 𝑖𝑓 𝑥 𝑖𝑠 𝑒𝑣𝑒𝑛\n",
    "3𝑥 + 1 𝑖𝑓 𝑥 𝑖𝑠 𝑜𝑑𝑑\n",
    "Your function should stop when the sequence gets to number 1. Your implementation must be recursive, without any loops.\n",
    "collatz(1)\n",
    "1\n",
    "collatz(10)\n",
    "10 5 16 8 4 2 1"
   ]
  },
  {
   "cell_type": "code",
   "execution_count": 18,
   "id": "882c8ca9",
   "metadata": {},
   "outputs": [
    {
     "name": "stdout",
     "output_type": "stream",
     "text": [
      "1\n",
      "\n",
      "10\n",
      "5\n",
      "16\n",
      "8\n",
      "4\n",
      "2\n",
      "1\n"
     ]
    }
   ],
   "source": [
    "def collatz(x):\n",
    "    while x != 1:\n",
    "        print(x)\n",
    "        if x % 2 == 0:\n",
    "            x //= 2\n",
    "        else:\n",
    "            x = 3 * x + 1\n",
    "    print(1)\n",
    "\n",
    "collatz(1)\n",
    "print()\n",
    "collatz(10)"
   ]
  },
  {
   "cell_type": "markdown",
   "id": "cfd45f5a",
   "metadata": {},
   "source": [
    "Question 5\n",
    "Write a recursive method binary() that takes a non-negative integer n and prints the binary representation of integer n.\n",
    "binary(0)\n",
    "0\n",
    "binary(1)\n",
    "1\n",
    "binary(3)\n",
    "11\n",
    "binary(9)\n",
    "1001"
   ]
  },
  {
   "cell_type": "code",
   "execution_count": 19,
   "id": "afb262e9",
   "metadata": {},
   "outputs": [
    {
     "name": "stdout",
     "output_type": "stream",
     "text": [
      "0\n",
      "1\n",
      "11\n",
      "1001"
     ]
    }
   ],
   "source": [
    "def binary(n):\n",
    "    if n == 0:\n",
    "        print(0, end='')\n",
    "    elif n == 1:\n",
    "        print(1, end='')\n",
    "    else:\n",
    "        binary(n // 2)\n",
    "        print(n % 2, end='')\n",
    "\n",
    "binary(0)\n",
    "print()\n",
    "binary(1)\n",
    "print()\n",
    "binary(3)\n",
    "print()\n",
    "binary(9)"
   ]
  },
  {
   "cell_type": "markdown",
   "id": "aa233618",
   "metadata": {},
   "source": [
    "Question 6\n",
    "Implement a class named HeadingParser that can be used to parse an HTML document, and retrieve and print all the headings in the document. You should implement your class as a subclass of HTMLParser, defined in Standard Library module html.parser. When fed a string containing HTML code, your class should print the headings, one per line and in the order in which they appear in the document. Each heading should be indented as follows: an h1 heading should have indentation 0, and h2 heading should have indentation 1, etc. Test your implementation using w3c.html.\n",
    "infile = open('w3c.html')\n",
    "content = infile.read()\n",
    "infile.close()\n",
    "hp = HeadingParser()\n",
    "hp.feed(content)\n",
    "W3C Mission\n",
    "Principles"
   ]
  },
  {
   "cell_type": "code",
   "execution_count": 22,
   "id": "79bc48b6",
   "metadata": {},
   "outputs": [
    {
     "name": "stdout",
     "output_type": "stream",
     "text": [
      "W3C Mission\n",
      " Principles\n"
     ]
    }
   ],
   "source": [
    "from html.parser import HTMLParser\n",
    "class HeadingParser(HTMLParser):\n",
    "    def __init__(self):\n",
    "        super().__init__()\n",
    "        self.headings = []\n",
    "        self.current_heading = None\n",
    "    def handle_starttag(self, tag, attrs):\n",
    "        if tag.startswith('h') and tag[1:].isdigit():\n",
    "            self.current_heading = {'level': int(tag[1]), 'text': ''}\n",
    "    def handle_data(self, data):\n",
    "        if self.current_heading:\n",
    "            self.current_heading['text'] += data\n",
    "    def handle_endtag(self, tag):\n",
    "        if self.current_heading:\n",
    "            self.headings.append(self.current_heading)\n",
    "            self.current_heading = None\n",
    "    def print_headings(self):\n",
    "        for heading in self.headings:\n",
    "            print(' ' * (heading['level'] - 1) + heading['text'])\n",
    "\n",
    "infile = open(\"w3c.txt\", \"r\")\n",
    "content = infile.read()\n",
    "infile.close()\n",
    "hp = HeadingParser()\n",
    "hp.feed(content)\n",
    "hp.print_headings()"
   ]
  },
  {
   "cell_type": "markdown",
   "id": "d5ec1aaa",
   "metadata": {},
   "source": [
    "Question 7\n",
    "Implement recursive function webdir() that takes as input: a URL (as a string) and non-negative integers depth and indent. Your function should visit every web page reachable from the starting URL web page in depth clicks or less, and print \n",
    "each web page's URL. As shown below, indentation, specified by indent, should be used to indicate the depth of a URL.\n",
    "webdir('http://reed.cs.depaul.edu/lperkovic/csc242/test1.html', 2, 0)\n",
    "http://reed.cs.depaul.edu/lperkovic/csc242/test1.html\n",
    "http://reed.cs.depaul.edu/lperkovic/csc242/test2.html\n",
    "http://reed.cs.depaul.edu/lperkovic/csc242/test4.html\n",
    "http://reed.cs.depaul.edu/lperkovic/csc242/test3.html\n",
    "http://reed.cs.depaul.edu/lperkovic/csc242/test4.html"
   ]
  },
  {
   "cell_type": "code",
   "execution_count": 24,
   "id": "75c7e524",
   "metadata": {},
   "outputs": [
    {
     "name": "stdout",
     "output_type": "stream",
     "text": [
      "http://reed.cs.depaul.edu/lperkovic/csc242/test1.html\n"
     ]
    }
   ],
   "source": [
    "import requests\n",
    "def webdir(url, depth, indent):\n",
    "    if depth < 0:\n",
    "        return\n",
    "    try:\n",
    "        response = requests.get(url)\n",
    "        print(' ' * indent + url)\n",
    "        if depth > 0:\n",
    "            for link in response.text.split('<a href=\"')[1:]:\n",
    "                next_url = link.split('\"')[0]\n",
    "                if next_url.startswith('http'):\n",
    "                    webdir(next_url, depth - 1, indent + 1)\n",
    "    except requests.exceptions.RequestException as e:\n",
    "        print(' ' * indent + f\"Error: {e}\")\n",
    "webdir('http://reed.cs.depaul.edu/lperkovic/csc242/test1.html', 2, 0)"
   ]
  },
  {
   "cell_type": "code",
   "execution_count": null,
   "id": "3e8ac469",
   "metadata": {},
   "outputs": [],
   "source": [
    "Question 8\n",
    "Write SQL queries on the below database table that return: \n",
    "a) All the temperature data.\n",
    "b) All the cities, but without repetition.\n",
    "c) All the records for India.\n",
    "d) All the Fall records.\n",
    "e) The city, country, and season for which the average rainfall is between 200 and 400 millimeters.\n",
    "f) The city and country for which the average Fall temperature is above 20 degrees, in increasing temperature order.\n",
    "g) The total annual rainfall for Cairo.\n",
    "h) The total rainfall for each season."
   ]
  },
  {
   "cell_type": "code",
   "execution_count": 25,
   "id": "7baac027",
   "metadata": {},
   "outputs": [
    {
     "name": "stdout",
     "output_type": "stream",
     "text": [
      "Executing query: SELECT Temperature FROM weather;\n",
      "(24.8,)\n",
      "(28.4,)\n",
      "(27.9,)\n",
      "(27.6,)\n",
      "(4.2,)\n",
      "(8.3,)\n",
      "(15.7,)\n",
      "(10.4,)\n",
      "(13.6,)\n",
      "(20.7,)\n",
      "(27.7,)\n",
      "(22.2,)\n",
      "\n",
      "Executing query: SELECT DISTINCT City FROM weather;\n",
      "('Mumbai',)\n",
      "('London',)\n",
      "('Cairo',)\n",
      "\n",
      "Executing query: SELECT * FROM weather WHERE Country = 'India';\n",
      "('Mumbai', 'India', 'Winter', 24.8, 5.9)\n",
      "('Mumbai', 'India', 'Spring', 28.4, 16.2)\n",
      "('Mumbai', 'India', 'Summer', 27.9, 1549.4)\n",
      "('Mumbai', 'India', 'Fall', 27.6, 346.0)\n",
      "\n",
      "Executing query: SELECT * FROM weather WHERE Season = 'Fall';\n",
      "('Mumbai', 'India', 'Fall', 27.6, 346.0)\n",
      "('London', 'United Kingdom', 'Fall', 10.4, 218.5)\n",
      "('Cairo', 'Egypt', 'Fall', 22.2, 4.5)\n",
      "\n",
      "Executing query: SELECT City, Country, Season FROM weather GROUP BY City, Country, Season HAVING AVG(Rainfall) BETWEEN 200 AND 400;\n",
      "('London', 'United Kingdom', 'Fall')\n",
      "('London', 'United Kingdom', 'Winter')\n",
      "('Mumbai', 'India', 'Fall')\n",
      "\n",
      "Executing query: SELECT City, Country FROM weather WHERE Season = 'Fall' GROUP BY City, Country HAVING AVG(Temperature) > 20 ORDER BY AVG(Temperature) ASC;\n",
      "('Cairo', 'Egypt')\n",
      "('Mumbai', 'India')\n",
      "\n",
      "Executing query: SELECT SUM(Rainfall) AS Total_Rainfall FROM weather WHERE City = 'Cairo';\n",
      "(27.6,)\n",
      "\n",
      "Executing query: SELECT Season, SUM(Rainfall) AS Total_Rainfall FROM weather GROUP BY Season;\n",
      "('Fall', 569.0)\n",
      "('Spring', 192.29999999999998)\n",
      "('Summer', 1706.5)\n",
      "('Winter', 230.1)\n",
      "\n"
     ]
    }
   ],
   "source": [
    "import sqlite3\n",
    "\n",
    "# Connect to the database\n",
    "conn = sqlite3.connect(':memory:')  # Creating an in-memory database for demonstration purposes\n",
    "cursor = conn.cursor()\n",
    "\n",
    "# Create the table and insert the data\n",
    "cursor.execute('''CREATE TABLE weather (\n",
    "                    City TEXT,\n",
    "                    Country TEXT,\n",
    "                    Season TEXT,\n",
    "                    Temperature REAL,\n",
    "                    Rainfall REAL\n",
    "                  )''')\n",
    "\n",
    "data = [('Mumbai', 'India', 'Winter', 24.8, 5.9),\n",
    "        ('Mumbai', 'India', 'Spring', 28.4, 16.2),\n",
    "        ('Mumbai', 'India', 'Summer', 27.9, 1549.4),\n",
    "        ('Mumbai', 'India', 'Fall', 27.6, 346.0),\n",
    "        ('London', 'United Kingdom', 'Winter', 4.2, 207.7),\n",
    "        ('London', 'United Kingdom', 'Spring', 8.3, 169.6),\n",
    "        ('London', 'United Kingdom', 'Summer', 15.7, 157.0),\n",
    "        ('London', 'United Kingdom', 'Fall', 10.4, 218.5),\n",
    "        ('Cairo', 'Egypt', 'Winter', 13.6, 16.5),\n",
    "        ('Cairo', 'Egypt', 'Spring', 20.7, 6.5),\n",
    "        ('Cairo', 'Egypt', 'Summer', 27.7, 0.1),\n",
    "        ('Cairo', 'Egypt', 'Fall', 22.2, 4.5)]\n",
    "\n",
    "cursor.executemany('INSERT INTO weather VALUES (?, ?, ?, ?, ?)', data)\n",
    "conn.commit()\n",
    "\n",
    "# SQL queries\n",
    "queries = [\n",
    "    \"SELECT Temperature FROM weather;\",\n",
    "    \"SELECT DISTINCT City FROM weather;\",\n",
    "    \"SELECT * FROM weather WHERE Country = 'India';\",\n",
    "    \"SELECT * FROM weather WHERE Season = 'Fall';\",\n",
    "    \"SELECT City, Country, Season FROM weather GROUP BY City, Country, Season HAVING AVG(Rainfall) BETWEEN 200 AND 400;\",\n",
    "    \"SELECT City, Country FROM weather WHERE Season = 'Fall' GROUP BY City, Country HAVING AVG(Temperature) > 20 ORDER BY AVG(Temperature) ASC;\",\n",
    "    \"SELECT SUM(Rainfall) AS Total_Rainfall FROM weather WHERE City = 'Cairo';\",\n",
    "    \"SELECT Season, SUM(Rainfall) AS Total_Rainfall FROM weather GROUP BY Season;\"\n",
    "]\n",
    "\n",
    "# Execute queries and print results\n",
    "for query in queries:\n",
    "    print(f\"Executing query: {query}\")\n",
    "    cursor.execute(query)\n",
    "    results = cursor.fetchall()\n",
    "    for row in results:\n",
    "        print(row)\n",
    "    print()\n",
    "\n",
    "# Close the connection\n",
    "conn.close()"
   ]
  },
  {
   "cell_type": "markdown",
   "id": "d916193a",
   "metadata": {},
   "source": [
    "Question 9\n",
    "Suppose list words is defined as follows:\n",
    "words = ['The', 'quick', 'brown', 'fox', 'jumps', 'over', 'the', 'lazy', 'dog']\n",
    "\n",
    "Write list comprehension expressions that use list words and generate the following lists:\n",
    "a) ['THE', 'QUICK', 'BROWN', 'FOX', 'JUMPS', 'OVER', 'THE', 'LAZY', 'DOG']\n",
    "b) ['the', 'quick', 'brown', 'fox', 'jumps', 'over', 'the', 'lazy', 'dog']\n",
    "c) [3, 5, 5, 3, 5, 4, 3, 4, 3] (the list of lengths of words in list words).\n",
    "d) [['THE', 'the', 3], ['QUICK', 'quick', 5], ['BROWN', 'brown', 5], ['FOX', 'fox', 3], ['JUMPS', 'jumps', 5], ['OVER', 'over', 4], ['THE', 'the', 3], ['LAZY', 'lazy', 4], ['DOG', 'dog', 3]] (the list containing a list for every word of list words, where each list contains the word in uppercase and lowercase and the length of the word.)\n",
    "e) ['The', 'quick', 'brown', 'fox', 'jumps', 'over', 'the', 'lazy', 'dog'] (the list of words in list words containing 4 or more characters."
   ]
  },
  {
   "cell_type": "code",
   "execution_count": 26,
   "id": "7919b6bd",
   "metadata": {
    "scrolled": true
   },
   "outputs": [
    {
     "name": "stdout",
     "output_type": "stream",
     "text": [
      "a) Uppercase words: ['THE', 'QUICK', 'BROWN', 'FOX', 'JUMPS', 'OVER', 'THE', 'LAZY', 'DOG']\n",
      "b) Lowercase words: ['the', 'quick', 'brown', 'fox', 'jumps', 'over', 'the', 'lazy', 'dog']\n",
      "c) Lengths of words: [3, 5, 5, 3, 5, 4, 3, 4, 3]\n",
      "d) Word info: [['THE', 'the', 3], ['QUICK', 'quick', 5], ['BROWN', 'brown', 5], ['FOX', 'fox', 3], ['JUMPS', 'jumps', 5], ['OVER', 'over', 4], ['THE', 'the', 3], ['LAZY', 'lazy', 4], ['DOG', 'dog', 3]]\n",
      "e) Words containing 4 or more characters: ['quick', 'brown', 'jumps', 'over', 'lazy']\n"
     ]
    }
   ],
   "source": [
    "words = ['The', 'quick', 'brown', 'fox', 'jumps', 'over', 'the', 'lazy', 'dog']\n",
    "uppercase_words = [word.upper() for word in words]\n",
    "print(\"a) Uppercase words:\", uppercase_words)\n",
    "\n",
    "lowercase_words = [word.lower() for word in words]\n",
    "print(\"b) Lowercase words:\", lowercase_words)\n",
    "\n",
    "word_lengths = [len(word) for word in words]\n",
    "print(\"c) Lengths of words:\", word_lengths)\n",
    "\n",
    "word_info = [[word.upper(), word.lower(), len(word)] for word in words]\n",
    "print(\"d) Word info:\", word_info)\n",
    "\n",
    "long_words = [word for word in words if len(word) >= 4]\n",
    "print(\"e) Words containing 4 or more characters:\", long_words)"
   ]
  }
 ],
 "metadata": {
  "kernelspec": {
   "display_name": "Python 3 (ipykernel)",
   "language": "python",
   "name": "python3"
  },
  "language_info": {
   "codemirror_mode": {
    "name": "ipython",
    "version": 3
   },
   "file_extension": ".py",
   "mimetype": "text/x-python",
   "name": "python",
   "nbconvert_exporter": "python",
   "pygments_lexer": "ipython3",
   "version": "3.11.5"
  }
 },
 "nbformat": 4,
 "nbformat_minor": 5
}
